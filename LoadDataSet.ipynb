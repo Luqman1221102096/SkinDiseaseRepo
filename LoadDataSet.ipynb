{
 "cells": [
  {
   "cell_type": "code",
   "execution_count": null,
   "id": "3e20482f-73ab-4f0f-b648-cbac36c1940e",
   "metadata": {},
   "outputs": [],
   "source": [
    "#Only run this once to load in the dataset from kaggle\n",
    "import kagglehub\n",
    "\n",
    "# Download latest version\n",
    "path = kagglehub.dataset_download(\"pacificrm/skindiseasedataset\")\n",
    "\n",
    "print(\"Path to dataset files:\", path)"
   ]
  }
 ],
 "metadata": {
  "kernelspec": {
   "display_name": "Python 3 (ipykernel)",
   "language": "python",
   "name": "python3"
  },
  "language_info": {
   "codemirror_mode": {
    "name": "ipython",
    "version": 3
   },
   "file_extension": ".py",
   "mimetype": "text/x-python",
   "name": "python",
   "nbconvert_exporter": "python",
   "pygments_lexer": "ipython3",
   "version": "3.10.13"
  }
 },
 "nbformat": 4,
 "nbformat_minor": 5
}
