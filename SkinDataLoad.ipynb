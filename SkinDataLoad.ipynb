{
 "cells": [
  {
   "cell_type": "code",
   "execution_count": 1,
   "id": "9b5041de-991d-41f1-96b7-ac0b29d54977",
   "metadata": {},
   "outputs": [
    {
     "name": "stdout",
     "output_type": "stream",
     "text": [
      "Downloading from https://www.kaggle.com/api/v1/datasets/download/pacificrm/skindiseasedataset?dataset_version_number=6...\n"
     ]
    },
    {
     "name": "stderr",
     "output_type": "stream",
     "text": [
      "100%|█████████████████████████████████████████████████████████████████████████████| 1.36G/1.36G [01:33<00:00, 15.6MB/s]"
     ]
    },
    {
     "name": "stdout",
     "output_type": "stream",
     "text": [
      "Extracting files...\n"
     ]
    },
    {
     "name": "stderr",
     "output_type": "stream",
     "text": [
      "\n"
     ]
    },
    {
     "name": "stdout",
     "output_type": "stream",
     "text": [
      "Path to dataset files: C:\\Users\\luqma\\.cache\\kagglehub\\datasets\\pacificrm\\skindiseasedataset\\versions\\6\n"
     ]
    }
   ],
   "source": [
    "#Only run this once to load in the dataset from kaggle\n",
    "import kagglehub\n",
    "\n",
    "# Download latest version\n",
    "path = kagglehub.dataset_download(\"pacificrm/skindiseasedataset\")\n",
    "\n",
    "print(\"Path to dataset files:\", path)"
   ]
  },
  {
   "cell_type": "code",
   "execution_count": 10,
   "id": "3ffb8299-2d72-435d-a0e0-ddb9adec76d9",
   "metadata": {},
   "outputs": [],
   "source": [
    "# Declares the classifications\n",
    "diseases = [('an', 'Acne'), ('ac', 'Actinic_Keratosis'), ('be', 'Benign_tumors'),\n",
    "           ('bu', 'Bullous'),('ca', 'Candidiasis'), ('de', 'DrugEruption'),\n",
    "          ('ec','Eczema'), ('ib','Infestations_Bites'),('li','Lichen'),\n",
    "          ('lu','Lupus'), ('mo','Moles'),('ps','Psoriasis'),\n",
    "           ('ro','Rosacea'), ('sk','Seborrh_Keratoses'),('sc','SkinCancer'),\n",
    "           ('sd','Sun_Sunlight_Damage'), ('ti','Tinea'),('un','Unknown_Normal'),\n",
    "           ('vt','Vascular_Tumors'), ('va','Vasculitis'),('vi','Vitiligo'),\n",
    "           ('wa','Warts')]"
   ]
  },
  {
   "cell_type": "code",
   "execution_count": 13,
   "id": "38922f80-e0ca-4c32-9a97-992a2bb6f3a1",
   "metadata": {},
   "outputs": [
    {
     "name": "stdout",
     "output_type": "stream",
     "text": [
      "Total images loaded: 22\n"
     ]
    }
   ],
   "source": [
    "# Reads the images\n",
    "import os\n",
    "import cv2\n",
    "\n",
    "# Set your folder path to where the dataset is, After downloading it I placed it in the same folder.\n",
    "folder_path = r'SkinDisease/train/' # Loads the training set\n",
    "\n",
    "# Create an empty list to store images\n",
    "images = []\n",
    "\n",
    "\n",
    "# Loop through all files in the folder\n",
    "for disease in diseases:  \n",
    "    imageList = []\n",
    "    newFolderPath = folder_path + disease[1]\n",
    "    image_files = [f for f in os.listdir(newFolderPath)]\n",
    "    for filename in image_files[:1]: # Choose how many images to load from each folder here. Remove [] to load all of them.\n",
    "        file_path = os.path.join(newFolderPath, filename)\n",
    "        img = cv2.imread(file_path)\n",
    "        if img is not None:\n",
    "            imageList.append(img)\n",
    "        else:\n",
    "            print(f\"Warning: Failed to read {filename}\")\n",
    "    images.append(imageList)\n",
    "\n",
    "print(f\"Total images loaded: {len(images)}\")"
   ]
  },
  {
   "cell_type": "code",
   "execution_count": 35,
   "id": "ab3a1f8b-50d6-49e9-a44a-fd87470f5c1b",
   "metadata": {},
   "outputs": [
    {
     "name": "stdout",
     "output_type": "stream",
     "text": [
      "472 720 3\n"
     ]
    }
   ],
   "source": [
    "h, w, c = images[0][0].shape # the image returns height, width and color information\n",
    "print(h, w, c)"
   ]
  },
  {
   "cell_type": "code",
   "execution_count": 37,
   "id": "6c7f4bae-19fe-4345-9958-23bc7f85c963",
   "metadata": {},
   "outputs": [],
   "source": [
    "import numpy as np"
   ]
  },
  {
   "cell_type": "code",
   "execution_count": 40,
   "id": "68d85874-3378-4eea-95b0-5628ebb54a48",
   "metadata": {},
   "outputs": [],
   "source": [
    "image_db = []\n",
    "for img in images:\n",
    "        image_db.append(im.reshape(-1)) # Reduces the image into one dimention the same as h * w * c\n",
    "    \n",
    "image_db = np.squeeze(np.array(image_db))"
   ]
  },
  {
   "cell_type": "code",
   "execution_count": 41,
   "id": "9cf19972-b1b6-42f8-bdea-383282db2b15",
   "metadata": {},
   "outputs": [
    {
     "name": "stdout",
     "output_type": "stream",
     "text": [
      "[[106 134 181 ...  52  93 115]\n",
      " [106 134 181 ...  52  93 115]\n",
      " [106 134 181 ...  52  93 115]\n",
      " ...\n",
      " [106 134 181 ...  52  93 115]\n",
      " [106 134 181 ...  52  93 115]\n",
      " [106 134 181 ...  52  93 115]]\n",
      "(22, 1147500)\n"
     ]
    }
   ],
   "source": [
    "print(image_db)\n",
    "print(image_db.shape)"
   ]
  },
  {
   "cell_type": "code",
   "execution_count": 43,
   "id": "b426bd81-dd01-457e-b973-aad0a2bbe8b2",
   "metadata": {},
   "outputs": [],
   "source": [
    "labels = []\n",
    "for c in diseases:\n",
    "    labels.extend([c[0] for i in range(1)]) # 1 because we only loaded 1 image per classificatino, change this when needed."
   ]
  },
  {
   "cell_type": "code",
   "execution_count": 44,
   "id": "d1e41b00-793e-485a-8867-6fc575a44f46",
   "metadata": {},
   "outputs": [
    {
     "name": "stdout",
     "output_type": "stream",
     "text": [
      "an\n",
      "ac\n",
      "be\n",
      "bu\n"
     ]
    }
   ],
   "source": [
    "# sanity check\n",
    "print(labels[0]) # should be an\n",
    "print(labels[1]) # should be ac\n",
    "print(labels[2]) # should be be\n",
    "print(labels[3]) # should be bu"
   ]
  },
  {
   "cell_type": "code",
   "execution_count": null,
   "id": "0f2ddd1d-6a3b-4883-9b1f-0c40c87bb062",
   "metadata": {},
   "outputs": [],
   "source": []
  }
 ],
 "metadata": {
  "kernelspec": {
   "display_name": "Python 3 (ipykernel)",
   "language": "python",
   "name": "python3"
  },
  "language_info": {
   "codemirror_mode": {
    "name": "ipython",
    "version": 3
   },
   "file_extension": ".py",
   "mimetype": "text/x-python",
   "name": "python",
   "nbconvert_exporter": "python",
   "pygments_lexer": "ipython3",
   "version": "3.10.13"
  }
 },
 "nbformat": 4,
 "nbformat_minor": 5
}
